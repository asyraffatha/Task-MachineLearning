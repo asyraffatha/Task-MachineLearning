{
  "nbformat": 4,
  "nbformat_minor": 0,
  "metadata": {
    "colab": {
      "provenance": [],
      "authorship_tag": "ABX9TyPBG8lwDP5Uig5RPcsC+chc",
      "include_colab_link": true
    },
    "kernelspec": {
      "name": "python3",
      "display_name": "Python 3"
    },
    "language_info": {
      "name": "python"
    }
  },
  "cells": [
    {
      "cell_type": "markdown",
      "metadata": {
        "id": "view-in-github",
        "colab_type": "text"
      },
      "source": [
        "<a href=\"https://colab.research.google.com/github/asyraffatha/Task-MachineLearning/blob/main/Week%209/SVM_Regression_Asyraff.ipynb\" target=\"_parent\"><img src=\"https://colab.research.google.com/assets/colab-badge.svg\" alt=\"Open In Colab\"/></a>"
      ]
    },
    {
      "cell_type": "code",
      "execution_count": 2,
      "metadata": {
        "colab": {
          "base_uri": "https://localhost:8080/",
          "height": 92
        },
        "id": "7gna9IpaBnW1",
        "outputId": "0bcd77b1-bafe-4922-954c-2e95bf88392a"
      },
      "outputs": [
        {
          "output_type": "display_data",
          "data": {
            "text/plain": [
              "<IPython.core.display.HTML object>"
            ],
            "text/html": [
              "\n",
              "     <input type=\"file\" id=\"files-5baeca2f-5baa-4d15-aae7-768c1f53a073\" name=\"files[]\" multiple disabled\n",
              "        style=\"border:none\" />\n",
              "     <output id=\"result-5baeca2f-5baa-4d15-aae7-768c1f53a073\">\n",
              "      Upload widget is only available when the cell has been executed in the\n",
              "      current browser session. Please rerun this cell to enable.\n",
              "      </output>\n",
              "      <script>// Copyright 2017 Google LLC\n",
              "//\n",
              "// Licensed under the Apache License, Version 2.0 (the \"License\");\n",
              "// you may not use this file except in compliance with the License.\n",
              "// You may obtain a copy of the License at\n",
              "//\n",
              "//      http://www.apache.org/licenses/LICENSE-2.0\n",
              "//\n",
              "// Unless required by applicable law or agreed to in writing, software\n",
              "// distributed under the License is distributed on an \"AS IS\" BASIS,\n",
              "// WITHOUT WARRANTIES OR CONDITIONS OF ANY KIND, either express or implied.\n",
              "// See the License for the specific language governing permissions and\n",
              "// limitations under the License.\n",
              "\n",
              "/**\n",
              " * @fileoverview Helpers for google.colab Python module.\n",
              " */\n",
              "(function(scope) {\n",
              "function span(text, styleAttributes = {}) {\n",
              "  const element = document.createElement('span');\n",
              "  element.textContent = text;\n",
              "  for (const key of Object.keys(styleAttributes)) {\n",
              "    element.style[key] = styleAttributes[key];\n",
              "  }\n",
              "  return element;\n",
              "}\n",
              "\n",
              "// Max number of bytes which will be uploaded at a time.\n",
              "const MAX_PAYLOAD_SIZE = 100 * 1024;\n",
              "\n",
              "function _uploadFiles(inputId, outputId) {\n",
              "  const steps = uploadFilesStep(inputId, outputId);\n",
              "  const outputElement = document.getElementById(outputId);\n",
              "  // Cache steps on the outputElement to make it available for the next call\n",
              "  // to uploadFilesContinue from Python.\n",
              "  outputElement.steps = steps;\n",
              "\n",
              "  return _uploadFilesContinue(outputId);\n",
              "}\n",
              "\n",
              "// This is roughly an async generator (not supported in the browser yet),\n",
              "// where there are multiple asynchronous steps and the Python side is going\n",
              "// to poll for completion of each step.\n",
              "// This uses a Promise to block the python side on completion of each step,\n",
              "// then passes the result of the previous step as the input to the next step.\n",
              "function _uploadFilesContinue(outputId) {\n",
              "  const outputElement = document.getElementById(outputId);\n",
              "  const steps = outputElement.steps;\n",
              "\n",
              "  const next = steps.next(outputElement.lastPromiseValue);\n",
              "  return Promise.resolve(next.value.promise).then((value) => {\n",
              "    // Cache the last promise value to make it available to the next\n",
              "    // step of the generator.\n",
              "    outputElement.lastPromiseValue = value;\n",
              "    return next.value.response;\n",
              "  });\n",
              "}\n",
              "\n",
              "/**\n",
              " * Generator function which is called between each async step of the upload\n",
              " * process.\n",
              " * @param {string} inputId Element ID of the input file picker element.\n",
              " * @param {string} outputId Element ID of the output display.\n",
              " * @return {!Iterable<!Object>} Iterable of next steps.\n",
              " */\n",
              "function* uploadFilesStep(inputId, outputId) {\n",
              "  const inputElement = document.getElementById(inputId);\n",
              "  inputElement.disabled = false;\n",
              "\n",
              "  const outputElement = document.getElementById(outputId);\n",
              "  outputElement.innerHTML = '';\n",
              "\n",
              "  const pickedPromise = new Promise((resolve) => {\n",
              "    inputElement.addEventListener('change', (e) => {\n",
              "      resolve(e.target.files);\n",
              "    });\n",
              "  });\n",
              "\n",
              "  const cancel = document.createElement('button');\n",
              "  inputElement.parentElement.appendChild(cancel);\n",
              "  cancel.textContent = 'Cancel upload';\n",
              "  const cancelPromise = new Promise((resolve) => {\n",
              "    cancel.onclick = () => {\n",
              "      resolve(null);\n",
              "    };\n",
              "  });\n",
              "\n",
              "  // Wait for the user to pick the files.\n",
              "  const files = yield {\n",
              "    promise: Promise.race([pickedPromise, cancelPromise]),\n",
              "    response: {\n",
              "      action: 'starting',\n",
              "    }\n",
              "  };\n",
              "\n",
              "  cancel.remove();\n",
              "\n",
              "  // Disable the input element since further picks are not allowed.\n",
              "  inputElement.disabled = true;\n",
              "\n",
              "  if (!files) {\n",
              "    return {\n",
              "      response: {\n",
              "        action: 'complete',\n",
              "      }\n",
              "    };\n",
              "  }\n",
              "\n",
              "  for (const file of files) {\n",
              "    const li = document.createElement('li');\n",
              "    li.append(span(file.name, {fontWeight: 'bold'}));\n",
              "    li.append(span(\n",
              "        `(${file.type || 'n/a'}) - ${file.size} bytes, ` +\n",
              "        `last modified: ${\n",
              "            file.lastModifiedDate ? file.lastModifiedDate.toLocaleDateString() :\n",
              "                                    'n/a'} - `));\n",
              "    const percent = span('0% done');\n",
              "    li.appendChild(percent);\n",
              "\n",
              "    outputElement.appendChild(li);\n",
              "\n",
              "    const fileDataPromise = new Promise((resolve) => {\n",
              "      const reader = new FileReader();\n",
              "      reader.onload = (e) => {\n",
              "        resolve(e.target.result);\n",
              "      };\n",
              "      reader.readAsArrayBuffer(file);\n",
              "    });\n",
              "    // Wait for the data to be ready.\n",
              "    let fileData = yield {\n",
              "      promise: fileDataPromise,\n",
              "      response: {\n",
              "        action: 'continue',\n",
              "      }\n",
              "    };\n",
              "\n",
              "    // Use a chunked sending to avoid message size limits. See b/62115660.\n",
              "    let position = 0;\n",
              "    do {\n",
              "      const length = Math.min(fileData.byteLength - position, MAX_PAYLOAD_SIZE);\n",
              "      const chunk = new Uint8Array(fileData, position, length);\n",
              "      position += length;\n",
              "\n",
              "      const base64 = btoa(String.fromCharCode.apply(null, chunk));\n",
              "      yield {\n",
              "        response: {\n",
              "          action: 'append',\n",
              "          file: file.name,\n",
              "          data: base64,\n",
              "        },\n",
              "      };\n",
              "\n",
              "      let percentDone = fileData.byteLength === 0 ?\n",
              "          100 :\n",
              "          Math.round((position / fileData.byteLength) * 100);\n",
              "      percent.textContent = `${percentDone}% done`;\n",
              "\n",
              "    } while (position < fileData.byteLength);\n",
              "  }\n",
              "\n",
              "  // All done.\n",
              "  yield {\n",
              "    response: {\n",
              "      action: 'complete',\n",
              "    }\n",
              "  };\n",
              "}\n",
              "\n",
              "scope.google = scope.google || {};\n",
              "scope.google.colab = scope.google.colab || {};\n",
              "scope.google.colab._files = {\n",
              "  _uploadFiles,\n",
              "  _uploadFilesContinue,\n",
              "};\n",
              "})(self);\n",
              "</script> "
            ]
          },
          "metadata": {}
        },
        {
          "output_type": "stream",
          "name": "stdout",
          "text": [
            "Saving CreditDataset.csv to CreditDataset.csv\n",
            "dict_keys(['CreditDataset.csv'])\n"
          ]
        }
      ],
      "source": [
        "from google.colab import files\n",
        "\n",
        "# Memunculkan dialog unggah file\n",
        "uploaded = files.upload()\n",
        "\n",
        "# Mengecek file yang diunggah\n",
        "print(uploaded.keys())\n"
      ]
    },
    {
      "cell_type": "code",
      "source": [
        "import pandas as pd\n",
        "\n",
        "# Membaca file (ganti \"CreditDataset.csv\" dengan nama file Anda)\n",
        "data = pd.read_csv(\"CreditDataset.csv\")\n",
        "print(data.head())\n",
        "\n",
        "# Melihat informasi umum tentang dataset\n",
        "print(data.info())  # Memeriksa tipe data, jumlah missing values, dll.\n",
        "\n",
        "# Deskripsi statistik data\n",
        "print(data.describe())  # Informasi ringkasan data numerik\n"
      ],
      "metadata": {
        "colab": {
          "base_uri": "https://localhost:8080/"
        },
        "id": "iH_ZlUuoBuOO",
        "outputId": "b27b499e-63a6-4003-d28f-90d38141f213"
      },
      "execution_count": 7,
      "outputs": [
        {
          "output_type": "stream",
          "name": "stdout",
          "text": [
            "    x1  x2   x3   x4    x5   x6   x7  x8   x9   x10  ...   x12 x13   x14  \\\n",
            "0  A11   6  A34  A43  1169  A65  A75   4  A93  A101  ...  A121  67  A143   \n",
            "1  A12  48  A32  A43  5951  A61  A73   2  A92  A101  ...  A121  22  A143   \n",
            "2  A14  12  A34  A46  2096  A61  A74   2  A93  A101  ...  A121  49  A143   \n",
            "3  A11  42  A32  A42  7882  A61  A74   2  A93  A103  ...  A122  45  A143   \n",
            "4  A11  24  A33  A40  4870  A61  A73   3  A93  A101  ...  A124  53  A143   \n",
            "\n",
            "    x15 x16   x17 x18   x19   x20 Class  \n",
            "0  A152   2  A173   1  A192  A201     1  \n",
            "1  A152   1  A173   1  A191  A201     2  \n",
            "2  A152   1  A172   2  A191  A201     1  \n",
            "3  A153   1  A173   2  A191  A201     1  \n",
            "4  A153   2  A173   2  A191  A201     2  \n",
            "\n",
            "[5 rows x 21 columns]\n",
            "<class 'pandas.core.frame.DataFrame'>\n",
            "RangeIndex: 1000 entries, 0 to 999\n",
            "Data columns (total 21 columns):\n",
            " #   Column  Non-Null Count  Dtype \n",
            "---  ------  --------------  ----- \n",
            " 0   x1      1000 non-null   object\n",
            " 1   x2      1000 non-null   int64 \n",
            " 2   x3      1000 non-null   object\n",
            " 3   x4      1000 non-null   object\n",
            " 4   x5      1000 non-null   int64 \n",
            " 5   x6      1000 non-null   object\n",
            " 6   x7      1000 non-null   object\n",
            " 7   x8      1000 non-null   int64 \n",
            " 8   x9      1000 non-null   object\n",
            " 9   x10     1000 non-null   object\n",
            " 10  x11     1000 non-null   int64 \n",
            " 11  x12     1000 non-null   object\n",
            " 12  x13     1000 non-null   int64 \n",
            " 13  x14     1000 non-null   object\n",
            " 14  x15     1000 non-null   object\n",
            " 15  x16     1000 non-null   int64 \n",
            " 16  x17     1000 non-null   object\n",
            " 17  x18     1000 non-null   int64 \n",
            " 18  x19     1000 non-null   object\n",
            " 19  x20     1000 non-null   object\n",
            " 20  Class   1000 non-null   int64 \n",
            "dtypes: int64(8), object(13)\n",
            "memory usage: 164.2+ KB\n",
            "None\n",
            "                x2            x5           x8          x11          x13  \\\n",
            "count  1000.000000   1000.000000  1000.000000  1000.000000  1000.000000   \n",
            "mean     20.903000   3271.258000     2.973000     2.845000    35.546000   \n",
            "std      12.058814   2822.736876     1.118715     1.103718    11.375469   \n",
            "min       4.000000    250.000000     1.000000     1.000000    19.000000   \n",
            "25%      12.000000   1365.500000     2.000000     2.000000    27.000000   \n",
            "50%      18.000000   2319.500000     3.000000     3.000000    33.000000   \n",
            "75%      24.000000   3972.250000     4.000000     4.000000    42.000000   \n",
            "max      72.000000  18424.000000     4.000000     4.000000    75.000000   \n",
            "\n",
            "               x16          x18        Class  \n",
            "count  1000.000000  1000.000000  1000.000000  \n",
            "mean      1.407000     1.155000     1.300000  \n",
            "std       0.577654     0.362086     0.458487  \n",
            "min       1.000000     1.000000     1.000000  \n",
            "25%       1.000000     1.000000     1.000000  \n",
            "50%       1.000000     1.000000     1.000000  \n",
            "75%       2.000000     1.000000     2.000000  \n",
            "max       4.000000     2.000000     2.000000  \n"
          ]
        }
      ]
    },
    {
      "cell_type": "code",
      "source": [
        "# Import libraries dasar\n",
        "import numpy as np  # Untuk operasi numerik\n",
        "import pandas as pd  # Untuk manipulasi dataset\n",
        "\n",
        "# Import libraries untuk preprocessing dan evaluasi\n",
        "from sklearn.model_selection import train_test_split  # Membagi dataset\n",
        "from sklearn.preprocessing import StandardScaler  # Normalisasi fitur\n",
        "\n",
        "# Import libraries untuk SVM Regression dan evaluasi\n",
        "from sklearn.svm import SVR  # Support Vector Regression\n",
        "from sklearn.metrics import mean_squared_error, mean_absolute_error, r2_score  # Evaluasi regresi\n",
        "\n",
        "# Import untuk visualisasi\n",
        "import matplotlib.pyplot as plt  # Plotting\n",
        "import seaborn as sns  # Untuk visualisasi data\n"
      ],
      "metadata": {
        "id": "RunJBqFtCYhd"
      },
      "execution_count": 4,
      "outputs": []
    },
    {
      "cell_type": "code",
      "source": [
        "# Melihat tipe data setiap kolom\n",
        "print(data.dtypes)\n"
      ],
      "metadata": {
        "colab": {
          "base_uri": "https://localhost:8080/"
        },
        "id": "cS3ZjAf-Clpb",
        "outputId": "2a6b4913-142d-4044-e80b-f779dad1fb27"
      },
      "execution_count": 11,
      "outputs": [
        {
          "output_type": "stream",
          "name": "stdout",
          "text": [
            "x1       object\n",
            "x2        int64\n",
            "x3       object\n",
            "x4       object\n",
            "x5        int64\n",
            "x6       object\n",
            "x7       object\n",
            "x8        int64\n",
            "x9       object\n",
            "x10      object\n",
            "x11       int64\n",
            "x12      object\n",
            "x13       int64\n",
            "x14      object\n",
            "x15      object\n",
            "x16       int64\n",
            "x17      object\n",
            "x18       int64\n",
            "x19      object\n",
            "x20      object\n",
            "Class     int64\n",
            "dtype: object\n"
          ]
        }
      ]
    },
    {
      "cell_type": "code",
      "source": [
        "from sklearn.preprocessing import LabelEncoder\n",
        "\n",
        "# Label Encoding untuk semua kolom bertipe object\n",
        "labelencoder = LabelEncoder()\n",
        "for col in data.select_dtypes(include='object').columns:\n",
        "    data[col] = labelencoder.fit_transform(data[col])\n",
        "\n",
        "# Lihat data setelah encoding\n",
        "print(data.head())\n"
      ],
      "metadata": {
        "colab": {
          "base_uri": "https://localhost:8080/"
        },
        "id": "ROhOOZu-DqEs",
        "outputId": "b9472b02-4723-4a97-8caa-202bad831868"
      },
      "execution_count": 12,
      "outputs": [
        {
          "output_type": "stream",
          "name": "stdout",
          "text": [
            "   x1  x2  x3  x4    x5  x6  x7  x8  x9  x10  ...  x12  x13  x14  x15  x16  \\\n",
            "0   0   6   4   4  1169   4   4   4   2    0  ...    0   67    2    1    2   \n",
            "1   1  48   2   4  5951   0   2   2   1    0  ...    0   22    2    1    1   \n",
            "2   3  12   4   7  2096   0   3   2   2    0  ...    0   49    2    1    1   \n",
            "3   0  42   2   3  7882   0   3   2   2    2  ...    1   45    2    2    1   \n",
            "4   0  24   3   0  4870   0   2   3   2    0  ...    3   53    2    2    2   \n",
            "\n",
            "   x17  x18  x19  x20  Class  \n",
            "0    2    1    1    0      1  \n",
            "1    2    1    0    0      2  \n",
            "2    1    2    0    0      1  \n",
            "3    2    2    0    0      1  \n",
            "4    2    2    0    0      2  \n",
            "\n",
            "[5 rows x 21 columns]\n"
          ]
        }
      ]
    },
    {
      "cell_type": "markdown",
      "source": [
        "**Preprocessing Dataset**"
      ],
      "metadata": {
        "id": "RxT6OcAnGmDo"
      }
    },
    {
      "cell_type": "code",
      "source": [
        "# Pisahkan fitur (X) dan target (y)\n",
        "X = data.drop(columns=['Class'])  # Kolom target adalah 'Class'\n",
        "y = data['Class']\n",
        "\n",
        "# Membagi dataset menjadi data latih dan uji\n",
        "from sklearn.model_selection import train_test_split\n",
        "X_train, X_test, y_train, y_test = train_test_split(X, y, test_size=0.2, random_state=42)\n",
        "\n",
        "# Normalisasi data numerik menggunakan StandardScaler\n",
        "from sklearn.preprocessing import StandardScaler\n",
        "scaler = StandardScaler()\n",
        "X_train_scaled = scaler.fit_transform(X_train)  # Transformasi data latih\n",
        "X_test_scaled = scaler.transform(X_test)  # Transformasi data uji\n"
      ],
      "metadata": {
        "id": "3fngRe3EFGat"
      },
      "execution_count": 13,
      "outputs": []
    },
    {
      "cell_type": "markdown",
      "source": [
        "**Membangun dan Melatih Model SVM Regression**\n",
        "\n",
        "\n",
        "*   Support Vector Machine (SVM) adalah algoritma yang dapat digunakan untuk tugas regresi dan klasifikasi. Dalam regresi, tujuan SVM adalah memprediksi nilai target kontinu dengan meminimalkan kesalahan dan memaksimalkan margin antara data dan hyperplane.\n",
        "\n",
        "\n",
        "\n"
      ],
      "metadata": {
        "id": "_mNy6ARyGvDN"
      }
    },
    {
      "cell_type": "code",
      "source": [
        "# Inisialisasi model SVM Regression\n",
        "svm_regressor = SVR(kernel='rbf', C=1.0, epsilon=0.1)  # Kernel rbf (default), parameter C dan epsilon dapat dituning\n",
        "\n",
        "# Melatih model dengan data latih\n",
        "svm_regressor.fit(X_train_scaled, y_train)\n",
        "\n",
        "# Prediksi nilai target pada data uji\n",
        "y_pred = svm_regressor.predict(X_test_scaled)\n"
      ],
      "metadata": {
        "id": "5rufKwvHFIow"
      },
      "execution_count": 14,
      "outputs": []
    },
    {
      "cell_type": "markdown",
      "source": [
        "**Evaluasi Model Regresi**\n",
        "> Evaluasi model regresi dilakukan untuk menilai seberapa baik model memprediksi nilai target. Beberapa metrik evaluasi yang digunakan untuk regresi:\n",
        "\n",
        "\n",
        "*   Mean Absolute Error (MAE): Rata-rata nilai absolut dari kesalahan prediksi.\n",
        "*   Mean Squared Error (MSE): Rata-rata kesalahan kuadrat (lebih sensitif terhadap outlier).\n",
        "*   R-squared (R²): Proporsi variansi dalam data yang dapat dijelaskan oleh model.\n",
        "\n",
        "\n",
        "\n",
        "\n"
      ],
      "metadata": {
        "id": "3GXQhGCdHNgB"
      }
    },
    {
      "cell_type": "code",
      "source": [
        "# Mean Squared Error (MSE)\n",
        "mse = mean_squared_error(y_test, y_pred)\n",
        "print(f\"Mean Squared Error (MSE): {mse}\")\n",
        "\n",
        "# Mean Absolute Error (MAE)\n",
        "mae = mean_absolute_error(y_test, y_pred)\n",
        "print(f\"Mean Absolute Error (MAE): {mae}\")\n",
        "\n",
        "# R-Squared (R2 Score)\n",
        "r2 = r2_score(y_test, y_pred)\n",
        "print(f\"R-Squared (R2 Score): {r2}\")\n"
      ],
      "metadata": {
        "colab": {
          "base_uri": "https://localhost:8080/"
        },
        "id": "1be6IyX4FQEq",
        "outputId": "81fedd5c-bcec-4fe2-9adf-5a8f07027e32"
      },
      "execution_count": 15,
      "outputs": [
        {
          "output_type": "stream",
          "name": "stdout",
          "text": [
            "Mean Squared Error (MSE): 0.15492406296958738\n",
            "Mean Absolute Error (MAE): 0.29526627281853157\n",
            "R-Squared (R2 Score): 0.2550832409203636\n"
          ]
        }
      ]
    },
    {
      "cell_type": "markdown",
      "source": [
        "**Eksplorasi Matriks Evaluasi Tambahan (ROC dan AUC)**\n",
        "\n",
        "\n",
        "*   ROC (Receiver Operating Characteristic) dan AUC (Area Under Curve) umumnya digunakan untuk klasifikasi, tetapi dapat diterapkan pada regresi jika target diubah menjadi masalah klasifikasi (binary/multiclass).\n",
        "*   Dalam regresi, jika prediksi dinilai sebagai \"benar\" atau \"salah\" berdasarkan threshold tertentu, ROC dan AUC membantu menilai kemampuan model untuk memisahkan kelas.\n",
        "\n"
      ],
      "metadata": {
        "id": "a7PKBTZbIBUM"
      }
    },
    {
      "cell_type": "code",
      "source": [
        "# Binarisasi target untuk evaluasi ROC dan AUC (opsional jika target cocok)\n",
        "from sklearn.metrics import roc_auc_score, roc_curve\n",
        "\n",
        "# Binarisasi target jika diperlukan\n",
        "y_binary_test = (y_test > y_test.mean()).astype(int)  # Binarisasi berdasarkan mean\n",
        "y_binary_pred = (y_pred > y_test.mean()).astype(int)  # Prediksi biner berdasarkan mean\n",
        "\n",
        "# ROC AUC Score\n",
        "roc_auc = roc_auc_score(y_binary_test, y_binary_pred)\n",
        "print(f\"ROC AUC Score: {roc_auc}\")\n",
        "\n",
        "# ROC Curve\n",
        "fpr, tpr, thresholds = roc_curve(y_binary_test, y_pred)\n",
        "plt.plot(fpr, tpr, label=f\"AUC = {roc_auc:.2f}\")\n",
        "plt.xlabel(\"False Positive Rate\")\n",
        "plt.ylabel(\"True Positive Rate\")\n",
        "plt.title(\"ROC Curve\")\n",
        "plt.legend()\n",
        "plt.show()\n"
      ],
      "metadata": {
        "colab": {
          "base_uri": "https://localhost:8080/",
          "height": 490
        },
        "id": "KIg1lLG2FSJk",
        "outputId": "a2c136dd-2e64-49e9-9900-d8751ea9b4ed"
      },
      "execution_count": 16,
      "outputs": [
        {
          "output_type": "stream",
          "name": "stdout",
          "text": [
            "ROC AUC Score: 0.7268902512321193\n"
          ]
        },
        {
          "output_type": "display_data",
          "data": {
            "text/plain": [
              "<Figure size 640x480 with 1 Axes>"
            ],
            "image/png": "[encoded data removed]"
          },
          "metadata": {}
        }
      ]
    },
    {
      "cell_type": "markdown",
      "source": [
        "**Visualisasi Hasil Prediksi vs Nilai Sebenarnya**\n",
        "\n",
        "\n",
        "> Visualisasi prediksi vs nilai sebenarnya membantu memahami seberapa dekat prediksi model dengan nilai target. Visualisasi seperti scatter plot atau garis ideal (y = x) sering digunakan.\n",
        "\n"
      ],
      "metadata": {
        "id": "SSjk2gEIINk2"
      }
    },
    {
      "cell_type": "code",
      "source": [
        "# Scatter plot antara nilai sebenarnya vs prediksi\n",
        "plt.figure(figsize=(8, 6))\n",
        "plt.scatter(y_test, y_pred, alpha=0.6)\n",
        "plt.plot([y_test.min(), y_test.max()], [y_test.min(), y_test.max()], color='red', linestyle='--')  # Garis ideal\n",
        "plt.xlabel(\"Actual Values\")\n",
        "plt.ylabel(\"Predicted Values\")\n",
        "plt.title(\"Actual vs Predicted\")\n",
        "plt.show()\n"
      ],
      "metadata": {
        "colab": {
          "base_uri": "https://localhost:8080/",
          "height": 564
        },
        "id": "OAv6O54-FUAV",
        "outputId": "6be8b487-0180-4ad5-99a7-e7e5ef8b8306"
      },
      "execution_count": 17,
      "outputs": [
        {
          "output_type": "display_data",
          "data": {
            "text/plain": [
              "<Figure size 800x600 with 1 Axes>"
            ],
            "image/png": "[encoded data removed]"
          },
          "metadata": {}
        }
      ]
    },
    {
      "cell_type": "markdown",
      "source": [
        "**Tuning Hypermeter dengan GridSearchCV**\n",
        "\n",
        "\n",
        "*   GridSearchCV adalah metode untuk mencari kombinasi hyperparameter terbaik dengan melakukan cross-validation.\n",
        "*   Hyperparameter seperti C, epsilon, dan kernel dapat disesuaikan untuk meningkatkan performa model.\n",
        "\n"
      ],
      "metadata": {
        "id": "lMSZ9AHeIWlA"
      }
    },
    {
      "cell_type": "code",
      "source": [
        "from sklearn.model_selection import GridSearchCV\n",
        "\n",
        "# Menentukan grid parameter\n",
        "param_grid = {\n",
        "    'C': [0.1, 1, 10],\n",
        "    'epsilon': [0.01, 0.1, 1],\n",
        "    'kernel': ['linear', 'rbf', 'poly']\n",
        "}\n",
        "\n",
        "# Grid Search dengan Cross Validation\n",
        "grid_search = GridSearchCV(SVR(), param_grid, cv=5, scoring='r2', verbose=2)\n",
        "grid_search.fit(X_train_scaled, y_train)\n",
        "\n",
        "# Output hasil terbaik\n",
        "print(f\"Best Parameters: {grid_search.best_params_}\")\n",
        "print(f\"Best R2 Score: {grid_search.best_score_}\")\n"
      ],
      "metadata": {
        "colab": {
          "base_uri": "https://localhost:8080/"
        },
        "id": "NF5BYDN6FWo-",
        "outputId": "0cdd6109-56e5-4225-a6eb-770c6a042579"
      },
      "execution_count": 18,
      "outputs": [
        {
          "output_type": "stream",
          "name": "stdout",
          "text": [
            "Fitting 5 folds for each of 27 candidates, totalling 135 fits\n",
            "[CV] END .................C=0.1, epsilon=0.01, kernel=linear; total time=   0.1s\n",
            "[CV] END .................C=0.1, epsilon=0.01, kernel=linear; total time=   0.1s\n",
            "[CV] END .................C=0.1, epsilon=0.01, kernel=linear; total time=   0.2s\n",
            "[CV] END .................C=0.1, epsilon=0.01, kernel=linear; total time=   0.2s\n",
            "[CV] END .................C=0.1, epsilon=0.01, kernel=linear; total time=   0.2s\n",
            "[CV] END ....................C=0.1, epsilon=0.01, kernel=rbf; total time=   0.1s\n",
            "[CV] END ....................C=0.1, epsilon=0.01, kernel=rbf; total time=   0.1s\n",
            "[CV] END ....................C=0.1, epsilon=0.01, kernel=rbf; total time=   0.1s\n",
            "[CV] END ....................C=0.1, epsilon=0.01, kernel=rbf; total time=   0.1s\n",
            "[CV] END ....................C=0.1, epsilon=0.01, kernel=rbf; total time=   0.1s\n",
            "[CV] END ...................C=0.1, epsilon=0.01, kernel=poly; total time=   0.1s\n",
            "[CV] END ...................C=0.1, epsilon=0.01, kernel=poly; total time=   0.2s\n",
            "[CV] END ...................C=0.1, epsilon=0.01, kernel=poly; total time=   0.2s\n",
            "[CV] END ...................C=0.1, epsilon=0.01, kernel=poly; total time=   0.1s\n",
            "[CV] END ...................C=0.1, epsilon=0.01, kernel=poly; total time=   0.2s\n",
            "[CV] END ..................C=0.1, epsilon=0.1, kernel=linear; total time=   0.1s\n",
            "[CV] END ..................C=0.1, epsilon=0.1, kernel=linear; total time=   0.1s\n",
            "[CV] END ..................C=0.1, epsilon=0.1, kernel=linear; total time=   0.1s\n",
            "[CV] END ..................C=0.1, epsilon=0.1, kernel=linear; total time=   0.1s\n",
            "[CV] END ..................C=0.1, epsilon=0.1, kernel=linear; total time=   0.2s\n",
            "[CV] END .....................C=0.1, epsilon=0.1, kernel=rbf; total time=   0.1s\n",
            "[CV] END .....................C=0.1, epsilon=0.1, kernel=rbf; total time=   0.1s\n",
            "[CV] END .....................C=0.1, epsilon=0.1, kernel=rbf; total time=   0.2s\n",
            "[CV] END .....................C=0.1, epsilon=0.1, kernel=rbf; total time=   0.1s\n",
            "[CV] END .....................C=0.1, epsilon=0.1, kernel=rbf; total time=   0.1s\n",
            "[CV] END ....................C=0.1, epsilon=0.1, kernel=poly; total time=   0.1s\n",
            "[CV] END ....................C=0.1, epsilon=0.1, kernel=poly; total time=   0.1s\n",
            "[CV] END ....................C=0.1, epsilon=0.1, kernel=poly; total time=   0.1s\n",
            "[CV] END ....................C=0.1, epsilon=0.1, kernel=poly; total time=   0.1s\n",
            "[CV] END ....................C=0.1, epsilon=0.1, kernel=poly; total time=   0.1s\n",
            "[CV] END ....................C=0.1, epsilon=1, kernel=linear; total time=   0.0s\n",
            "[CV] END ....................C=0.1, epsilon=1, kernel=linear; total time=   0.0s\n",
            "[CV] END ....................C=0.1, epsilon=1, kernel=linear; total time=   0.0s\n",
            "[CV] END ....................C=0.1, epsilon=1, kernel=linear; total time=   0.0s\n",
            "[CV] END ....................C=0.1, epsilon=1, kernel=linear; total time=   0.0s\n",
            "[CV] END .......................C=0.1, epsilon=1, kernel=rbf; total time=   0.0s\n",
            "[CV] END .......................C=0.1, epsilon=1, kernel=rbf; total time=   0.0s\n",
            "[CV] END .......................C=0.1, epsilon=1, kernel=rbf; total time=   0.0s\n",
            "[CV] END .......................C=0.1, epsilon=1, kernel=rbf; total time=   0.0s\n",
            "[CV] END .......................C=0.1, epsilon=1, kernel=rbf; total time=   0.0s\n",
            "[CV] END ......................C=0.1, epsilon=1, kernel=poly; total time=   0.0s\n",
            "[CV] END ......................C=0.1, epsilon=1, kernel=poly; total time=   0.0s\n",
            "[CV] END ......................C=0.1, epsilon=1, kernel=poly; total time=   0.0s\n",
            "[CV] END ......................C=0.1, epsilon=1, kernel=poly; total time=   0.0s\n",
            "[CV] END ......................C=0.1, epsilon=1, kernel=poly; total time=   0.0s\n",
            "[CV] END ...................C=1, epsilon=0.01, kernel=linear; total time=   1.2s\n",
            "[CV] END ...................C=1, epsilon=0.01, kernel=linear; total time=   0.8s\n",
            "[CV] END ...................C=1, epsilon=0.01, kernel=linear; total time=   0.7s\n",
            "[CV] END ...................C=1, epsilon=0.01, kernel=linear; total time=   0.8s\n",
            "[CV] END ...................C=1, epsilon=0.01, kernel=linear; total time=   1.1s\n",
            "[CV] END ......................C=1, epsilon=0.01, kernel=rbf; total time=   0.1s\n",
            "[CV] END ......................C=1, epsilon=0.01, kernel=rbf; total time=   0.1s\n",
            "[CV] END ......................C=1, epsilon=0.01, kernel=rbf; total time=   0.1s\n",
            "[CV] END ......................C=1, epsilon=0.01, kernel=rbf; total time=   0.1s\n",
            "[CV] END ......................C=1, epsilon=0.01, kernel=rbf; total time=   0.1s\n",
            "[CV] END .....................C=1, epsilon=0.01, kernel=poly; total time=   0.1s\n",
            "[CV] END .....................C=1, epsilon=0.01, kernel=poly; total time=   0.0s\n",
            "[CV] END .....................C=1, epsilon=0.01, kernel=poly; total time=   0.0s\n",
            "[CV] END .....................C=1, epsilon=0.01, kernel=poly; total time=   0.1s\n",
            "[CV] END .....................C=1, epsilon=0.01, kernel=poly; total time=   0.1s\n",
            "[CV] END ....................C=1, epsilon=0.1, kernel=linear; total time=   0.2s\n",
            "[CV] END ....................C=1, epsilon=0.1, kernel=linear; total time=   0.2s\n",
            "[CV] END ....................C=1, epsilon=0.1, kernel=linear; total time=   0.2s\n",
            "[CV] END ....................C=1, epsilon=0.1, kernel=linear; total time=   0.1s\n",
            "[CV] END ....................C=1, epsilon=0.1, kernel=linear; total time=   0.1s\n",
            "[CV] END .......................C=1, epsilon=0.1, kernel=rbf; total time=   0.0s\n",
            "[CV] END .......................C=1, epsilon=0.1, kernel=rbf; total time=   0.0s\n",
            "[CV] END .......................C=1, epsilon=0.1, kernel=rbf; total time=   0.0s\n",
            "[CV] END .......................C=1, epsilon=0.1, kernel=rbf; total time=   0.0s\n",
            "[CV] END .......................C=1, epsilon=0.1, kernel=rbf; total time=   0.1s\n",
            "[CV] END ......................C=1, epsilon=0.1, kernel=poly; total time=   0.0s\n",
            "[CV] END ......................C=1, epsilon=0.1, kernel=poly; total time=   0.0s\n",
            "[CV] END ......................C=1, epsilon=0.1, kernel=poly; total time=   0.0s\n",
            "[CV] END ......................C=1, epsilon=0.1, kernel=poly; total time=   0.0s\n",
            "[CV] END ......................C=1, epsilon=0.1, kernel=poly; total time=   0.0s\n",
            "[CV] END ......................C=1, epsilon=1, kernel=linear; total time=   0.0s\n",
            "[CV] END ......................C=1, epsilon=1, kernel=linear; total time=   0.0s\n",
            "[CV] END ......................C=1, epsilon=1, kernel=linear; total time=   0.0s\n",
            "[CV] END ......................C=1, epsilon=1, kernel=linear; total time=   0.0s\n",
            "[CV] END ......................C=1, epsilon=1, kernel=linear; total time=   0.0s\n",
            "[CV] END .........................C=1, epsilon=1, kernel=rbf; total time=   0.0s\n",
            "[CV] END .........................C=1, epsilon=1, kernel=rbf; total time=   0.0s\n",
            "[CV] END .........................C=1, epsilon=1, kernel=rbf; total time=   0.0s\n",
            "[CV] END .........................C=1, epsilon=1, kernel=rbf; total time=   0.0s\n",
            "[CV] END .........................C=1, epsilon=1, kernel=rbf; total time=   0.0s\n",
            "[CV] END ........................C=1, epsilon=1, kernel=poly; total time=   0.0s\n",
            "[CV] END ........................C=1, epsilon=1, kernel=poly; total time=   0.0s\n",
            "[CV] END ........................C=1, epsilon=1, kernel=poly; total time=   0.0s\n",
            "[CV] END ........................C=1, epsilon=1, kernel=poly; total time=   0.0s\n",
            "[CV] END ........................C=1, epsilon=1, kernel=poly; total time=   0.0s\n",
            "[CV] END ..................C=10, epsilon=0.01, kernel=linear; total time=   2.5s\n",
            "[CV] END ..................C=10, epsilon=0.01, kernel=linear; total time=   2.2s\n",
            "[CV] END ..................C=10, epsilon=0.01, kernel=linear; total time=   4.9s\n",
            "[CV] END ..................C=10, epsilon=0.01, kernel=linear; total time=   2.5s\n",
            "[CV] END ..................C=10, epsilon=0.01, kernel=linear; total time=   2.0s\n",
            "[CV] END .....................C=10, epsilon=0.01, kernel=rbf; total time=   0.1s\n",
            "[CV] END .....................C=10, epsilon=0.01, kernel=rbf; total time=   0.1s\n",
            "[CV] END .....................C=10, epsilon=0.01, kernel=rbf; total time=   0.1s\n",
            "[CV] END .....................C=10, epsilon=0.01, kernel=rbf; total time=   0.1s\n",
            "[CV] END .....................C=10, epsilon=0.01, kernel=rbf; total time=   0.1s\n",
            "[CV] END ....................C=10, epsilon=0.01, kernel=poly; total time=   0.1s\n",
            "[CV] END ....................C=10, epsilon=0.01, kernel=poly; total time=   0.1s\n",
            "[CV] END ....................C=10, epsilon=0.01, kernel=poly; total time=   0.1s\n",
            "[CV] END ....................C=10, epsilon=0.01, kernel=poly; total time=   0.1s\n",
            "[CV] END ....................C=10, epsilon=0.01, kernel=poly; total time=   0.1s\n",
            "[CV] END ...................C=10, epsilon=0.1, kernel=linear; total time=   1.0s\n",
            "[CV] END ...................C=10, epsilon=0.1, kernel=linear; total time=   1.3s\n",
            "[CV] END ...................C=10, epsilon=0.1, kernel=linear; total time=   1.3s\n",
            "[CV] END ...................C=10, epsilon=0.1, kernel=linear; total time=   1.4s\n",
            "[CV] END ...................C=10, epsilon=0.1, kernel=linear; total time=   2.4s\n",
            "[CV] END ......................C=10, epsilon=0.1, kernel=rbf; total time=   0.1s\n",
            "[CV] END ......................C=10, epsilon=0.1, kernel=rbf; total time=   0.1s\n",
            "[CV] END ......................C=10, epsilon=0.1, kernel=rbf; total time=   0.1s\n",
            "[CV] END ......................C=10, epsilon=0.1, kernel=rbf; total time=   0.1s\n",
            "[CV] END ......................C=10, epsilon=0.1, kernel=rbf; total time=   0.1s\n",
            "[CV] END .....................C=10, epsilon=0.1, kernel=poly; total time=   0.1s\n",
            "[CV] END .....................C=10, epsilon=0.1, kernel=poly; total time=   0.2s\n",
            "[CV] END .....................C=10, epsilon=0.1, kernel=poly; total time=   0.2s\n",
            "[CV] END .....................C=10, epsilon=0.1, kernel=poly; total time=   0.1s\n",
            "[CV] END .....................C=10, epsilon=0.1, kernel=poly; total time=   0.2s\n",
            "[CV] END .....................C=10, epsilon=1, kernel=linear; total time=   0.0s\n",
            "[CV] END .....................C=10, epsilon=1, kernel=linear; total time=   0.0s\n",
            "[CV] END .....................C=10, epsilon=1, kernel=linear; total time=   0.0s\n",
            "[CV] END .....................C=10, epsilon=1, kernel=linear; total time=   0.0s\n",
            "[CV] END .....................C=10, epsilon=1, kernel=linear; total time=   0.0s\n",
            "[CV] END ........................C=10, epsilon=1, kernel=rbf; total time=   0.0s\n",
            "[CV] END ........................C=10, epsilon=1, kernel=rbf; total time=   0.0s\n",
            "[CV] END ........................C=10, epsilon=1, kernel=rbf; total time=   0.0s\n",
            "[CV] END ........................C=10, epsilon=1, kernel=rbf; total time=   0.0s\n",
            "[CV] END ........................C=10, epsilon=1, kernel=rbf; total time=   0.0s\n",
            "[CV] END .......................C=10, epsilon=1, kernel=poly; total time=   0.0s\n",
            "[CV] END .......................C=10, epsilon=1, kernel=poly; total time=   0.0s\n",
            "[CV] END .......................C=10, epsilon=1, kernel=poly; total time=   0.0s\n",
            "[CV] END .......................C=10, epsilon=1, kernel=poly; total time=   0.0s\n",
            "[CV] END .......................C=10, epsilon=1, kernel=poly; total time=   0.0s\n",
            "Best Parameters: {'C': 1, 'epsilon': 0.1, 'kernel': 'rbf'}\n",
            "Best R2 Score: 0.14009845617086886\n"
          ]
        }
      ]
    },
    {
      "cell_type": "code",
      "source": [],
      "metadata": {
        "id": "HbBhg2NwFdOp"
      },
      "execution_count": null,
      "outputs": []
    }
  ]
}