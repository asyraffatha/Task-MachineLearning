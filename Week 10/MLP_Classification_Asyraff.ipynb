{
  "nbformat": 4,
  "nbformat_minor": 0,
  "metadata": {
    "colab": {
      "provenance": [],
      "authorship_tag": "ABX9TyNM0BrLACaVAwUX3gY5zdFs",
      "include_colab_link": true
    },
    "kernelspec": {
      "name": "python3",
      "display_name": "Python 3"
    },
    "language_info": {
      "name": "python"
    }
  },
  "cells": [
    {
      "cell_type": "markdown",
      "metadata": {
        "id": "view-in-github",
        "colab_type": "text"
      },
      "source": [
        "<a href=\"https://colab.research.google.com/github/asyraffatha/Task-MachineLearning/blob/main/Week%2010/MLP_Classification_Asyraff.ipynb\" target=\"_parent\"><img src=\"https://colab.research.google.com/assets/colab-badge.svg\" alt=\"Open In Colab\"/></a>"
      ]
    },
    {
      "cell_type": "code",
      "execution_count": 1,
      "metadata": {
        "id": "91zcbA9jwot_"
      },
      "outputs": [],
      "source": [
        "# Import libraries\n",
        "import pandas as pd\n",
        "import torch\n",
        "import torch.nn as nn\n",
        "from torch.utils.data import DataLoader, TensorDataset\n",
        "from sklearn.model_selection import train_test_split\n",
        "from sklearn.preprocessing import OneHotEncoder, StandardScaler\n",
        "from sklearn.metrics import accuracy_score\n"
      ]
    },
    {
      "cell_type": "code",
      "source": [
        "from google.colab import drive\n",
        "drive.mount('/content/drive')"
      ],
      "metadata": {
        "colab": {
          "base_uri": "https://localhost:8080/"
        },
        "id": "BfJFJgO8w9sR",
        "outputId": "7182c121-44e9-404d-bfdb-b18783ce3f51"
      },
      "execution_count": 2,
      "outputs": [
        {
          "output_type": "stream",
          "name": "stdout",
          "text": [
            "Mounted at /content/drive\n"
          ]
        }
      ]
    },
    {
      "cell_type": "code",
      "source": [
        "# Load dataset\n",
        "data = pd.read_csv('/content/drive/MyDrive/StudentsPerformance.csv')\n",
        "\n",
        "# Define target (categorical labels) and features\n",
        "# Convert 'math score' to categorical labels\n",
        "def categorize_math_score(score):\n",
        "    if score < 50:\n",
        "        return 0  # Low\n",
        "    elif 50 <= score <= 75:\n",
        "        return 1  # Medium\n",
        "    else:\n",
        "        return 2  # High\n",
        "\n",
        "data['math_category'] = data['math score'].apply(categorize_math_score)\n",
        "\n",
        "# Features (X) and target (y)\n",
        "X = data.drop(columns=['math score', 'math_category'])\n",
        "y = data['math_category']\n",
        "\n",
        "# Preprocessing\n",
        "categorical_cols = X.select_dtypes(include=['object']).columns\n",
        "numerical_cols = X.select_dtypes(exclude=['object']).columns\n",
        "\n",
        "# Encode categorical columns\n",
        "encoder = OneHotEncoder(sparse_output=False, drop='first')  # Perbarui ke 'sparse_output'\n",
        "X_encoded = encoder.fit_transform(X[categorical_cols])\n",
        "\n",
        "\n",
        "# Scale numerical columns\n",
        "scaler = StandardScaler()\n",
        "X_scaled = scaler.fit_transform(X[numerical_cols])\n",
        "\n",
        "# Combine encoded categorical and scaled numerical features\n",
        "X_processed = torch.tensor(\n",
        "    pd.concat(\n",
        "        [pd.DataFrame(X_encoded), pd.DataFrame(X_scaled)],\n",
        "        axis=1\n",
        "    ).values,\n",
        "    dtype=torch.float32\n",
        ")\n",
        "\n",
        "# Convert target to tensor\n",
        "y_processed = torch.tensor(y.values, dtype=torch.long)\n",
        "\n",
        "# Split into train and test sets\n",
        "X_train, X_test, y_train, y_test = train_test_split(X_processed, y_processed, test_size=0.2, random_state=42)\n",
        "\n",
        "# Define DataLoader\n",
        "train_dataset = TensorDataset(X_train, y_train)\n",
        "test_dataset = TensorDataset(X_test, y_test)\n",
        "\n",
        "train_loader = DataLoader(train_dataset, batch_size=32, shuffle=True)\n",
        "test_loader = DataLoader(test_dataset, batch_size=32, shuffle=False)\n"
      ],
      "metadata": {
        "id": "qyzdtKy5xKaI"
      },
      "execution_count": 4,
      "outputs": []
    },
    {
      "cell_type": "code",
      "source": [
        "# Define MLP model\n",
        "class MLPClassifier(nn.Module):\n",
        "    def __init__(self, input_size, hidden_size, output_size):\n",
        "        super(MLPClassifier, self).__init__()\n",
        "        self.fc1 = nn.Linear(input_size, hidden_size)\n",
        "        self.relu = nn.ReLU()\n",
        "        self.fc2 = nn.Linear(hidden_size, output_size)\n",
        "        self.softmax = nn.Softmax(dim=1)\n",
        "\n",
        "    def forward(self, x):\n",
        "        x = self.fc1(x)\n",
        "        x = self.relu(x)\n",
        "        x = self.fc2(x)\n",
        "        x = self.softmax(x)\n",
        "        return x\n",
        "\n",
        "# Model parameters\n",
        "input_size = X_train.shape[1]  # Jumlah fitur setelah preprocessing\n",
        "hidden_size = 32               # 1 hidden layer dengan 32 neuron\n",
        "output_size = 3                # 3 kelas: low, medium, high\n",
        "\n",
        "model = MLPClassifier(input_size, hidden_size, output_size)\n"
      ],
      "metadata": {
        "id": "nxLwt9ap5CCZ"
      },
      "execution_count": 5,
      "outputs": []
    },
    {
      "cell_type": "code",
      "source": [
        "# Loss and optimizer\n",
        "criterion = nn.CrossEntropyLoss()  # Loss untuk klasifikasi multi-kelas\n",
        "optimizer = torch.optim.Adam(model.parameters(), lr=0.001)  # Optimizer Adam\n",
        "\n",
        "# Training loop\n",
        "num_epochs = 50  # Jumlah epoch\n",
        "for epoch in range(num_epochs):\n",
        "    model.train()\n",
        "    for batch in train_loader:\n",
        "        inputs, labels = batch\n",
        "        outputs = model(inputs)             # Forward pass\n",
        "        loss = criterion(outputs, labels)  # Hitung loss\n",
        "\n",
        "        # Backpropagation\n",
        "        optimizer.zero_grad()\n",
        "        loss.backward()\n",
        "        optimizer.step()\n",
        "\n",
        "    # Print loss for every 10 epochs\n",
        "    if (epoch + 1) % 10 == 0:\n",
        "        print(f\"Epoch [{epoch+1}/{num_epochs}], Loss: {loss.item():.4f}\")\n"
      ],
      "metadata": {
        "colab": {
          "base_uri": "https://localhost:8080/"
        },
        "id": "1QDeU3dZ5C3-",
        "outputId": "b64d09e4-a7c7-4cb5-9b24-49aedd14c283"
      },
      "execution_count": 6,
      "outputs": [
        {
          "output_type": "stream",
          "name": "stdout",
          "text": [
            "Epoch [10/50], Loss: 0.8645\n",
            "Epoch [20/50], Loss: 0.7676\n",
            "Epoch [30/50], Loss: 0.7546\n",
            "Epoch [40/50], Loss: 0.6638\n",
            "Epoch [50/50], Loss: 0.7469\n"
          ]
        }
      ]
    },
    {
      "cell_type": "code",
      "source": [
        "# Evaluation\n",
        "model.eval()  # Set model ke mode evaluasi\n",
        "y_pred = []\n",
        "y_true = []\n",
        "\n",
        "with torch.no_grad():\n",
        "    for inputs, labels in test_loader:\n",
        "        outputs = model(inputs)\n",
        "        _, predicted = torch.max(outputs, 1)  # Ambil kelas dengan probabilitas tertinggi\n",
        "        y_pred.extend(predicted.numpy())\n",
        "        y_true.extend(labels.numpy())\n",
        "\n",
        "# Calculate accuracy\n",
        "accuracy = accuracy_score(y_true, y_pred)\n",
        "print(f\"Accuracy: {accuracy * 100:.2f}%\")\n",
        ""
      ],
      "metadata": {
        "colab": {
          "base_uri": "https://localhost:8080/"
        },
        "id": "aYTWGE_c5GI0",
        "outputId": "a8b4fcb1-90ef-4df5-e464-56d70296748a"
      },
      "execution_count": 7,
      "outputs": [
        {
          "output_type": "stream",
          "name": "stdout",
          "text": [
            "Accuracy: 80.50%\n"
          ]
        }
      ]
    }
  ]
}