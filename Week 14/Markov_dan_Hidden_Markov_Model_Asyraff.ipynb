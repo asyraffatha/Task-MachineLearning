{
  "nbformat": 4,
  "nbformat_minor": 0,
  "metadata": {
    "colab": {
      "provenance": [],
      "authorship_tag": "ABX9TyNmekIuFd4cqJ92iXJ/yIzI",
      "include_colab_link": true
    },
    "kernelspec": {
      "name": "python3",
      "display_name": "Python 3"
    },
    "language_info": {
      "name": "python"
    }
  },
  "cells": [
    {
      "cell_type": "markdown",
      "metadata": {
        "id": "view-in-github",
        "colab_type": "text"
      },
      "source": [
        "<a href=\"https://colab.research.google.com/github/asyraffatha/Task-MachineLearning/blob/main/Week%2014/Markov_dan_Hidden_Markov_Model_Asyraff.ipynb\" target=\"_parent\"><img src=\"https://colab.research.google.com/assets/colab-badge.svg\" alt=\"Open In Colab\"/></a>"
      ]
    },
    {
      "cell_type": "code",
      "execution_count": 2,
      "metadata": {
        "colab": {
          "base_uri": "https://localhost:8080/"
        },
        "id": "EUrKZPmnZOGB",
        "outputId": "536ff34a-8fdb-4b07-dda4-e41f5a36cf1b"
      },
      "outputs": [
        {
          "output_type": "stream",
          "name": "stdout",
          "text": [
            "Collecting hmmlearn\n",
            "  Downloading hmmlearn-0.3.3-cp310-cp310-manylinux_2_17_x86_64.manylinux2014_x86_64.whl.metadata (3.0 kB)\n",
            "Requirement already satisfied: numpy>=1.10 in /usr/local/lib/python3.10/dist-packages (from hmmlearn) (1.26.4)\n",
            "Requirement already satisfied: scikit-learn!=0.22.0,>=0.16 in /usr/local/lib/python3.10/dist-packages (from hmmlearn) (1.6.0)\n",
            "Requirement already satisfied: scipy>=0.19 in /usr/local/lib/python3.10/dist-packages (from hmmlearn) (1.13.1)\n",
            "Requirement already satisfied: joblib>=1.2.0 in /usr/local/lib/python3.10/dist-packages (from scikit-learn!=0.22.0,>=0.16->hmmlearn) (1.4.2)\n",
            "Requirement already satisfied: threadpoolctl>=3.1.0 in /usr/local/lib/python3.10/dist-packages (from scikit-learn!=0.22.0,>=0.16->hmmlearn) (3.5.0)\n",
            "Downloading hmmlearn-0.3.3-cp310-cp310-manylinux_2_17_x86_64.manylinux2014_x86_64.whl (164 kB)\n",
            "\u001b[2K   \u001b[90m━━━━━━━━━━━━━━━━━━━━━━━━━━━━━━━━━━━━━━━━\u001b[0m \u001b[32m164.6/164.6 kB\u001b[0m \u001b[31m3.0 MB/s\u001b[0m eta \u001b[36m0:00:00\u001b[0m\n",
            "\u001b[?25hInstalling collected packages: hmmlearn\n",
            "Successfully installed hmmlearn-0.3.3\n"
          ]
        }
      ],
      "source": [
        "# Install hmmlearn\n",
        "!pip install hmmlearn\n",
        "\n",
        "# Import necessary libraries\n",
        "import pandas as pd\n",
        "import numpy as np\n",
        "import torch\n",
        "import torch.nn as nn\n",
        "import torch.optim as optim\n",
        "from sklearn.model_selection import train_test_split\n",
        "from sklearn.preprocessing import LabelEncoder, StandardScaler\n",
        "from torch.utils.data import DataLoader, TensorDataset\n",
        "from hmmlearn import hmm  # For Hidden Markov Model\n",
        "from collections import Counter"
      ]
    },
    {
      "cell_type": "code",
      "source": [
        "from google.colab import drive\n",
        "drive.mount('/content/drive')"
      ],
      "metadata": {
        "colab": {
          "base_uri": "https://localhost:8080/"
        },
        "id": "vyrH_wetZSro",
        "outputId": "637a258a-c07b-4568-adb1-24bfbf7ba92f"
      },
      "execution_count": 3,
      "outputs": [
        {
          "output_type": "stream",
          "name": "stdout",
          "text": [
            "Mounted at /content/drive\n"
          ]
        }
      ]
    },
    {
      "cell_type": "code",
      "source": [
        "file_path = \"/content/drive/MyDrive/Week 14/data.csv\"  # Adjust the path\n",
        "data = pd.read_csv(file_path, delimiter=';')\n"
      ],
      "metadata": {
        "id": "jmnFqT36ZqJ-"
      },
      "execution_count": 4,
      "outputs": []
    },
    {
      "cell_type": "code",
      "source": [
        "# Clean column names and process data\n",
        "data.columns = data.columns.str.strip()\n",
        "data = data.select_dtypes(include=[np.number]).dropna()\n",
        "scaler = StandardScaler()\n",
        "data_scaled = scaler.fit_transform(data)"
      ],
      "metadata": {
        "id": "hOVFzQcoZ23M"
      },
      "execution_count": 5,
      "outputs": []
    },
    {
      "cell_type": "code",
      "source": [
        "# Split features and labels\n",
        "X = data_scaled[:, :-1]\n",
        "y = data_scaled[:, -1]\n",
        "X_train, X_test, y_train, y_test = train_test_split(X, y, test_size=0.2, random_state=42)"
      ],
      "metadata": {
        "id": "M28cvMHoZ5pN"
      },
      "execution_count": 6,
      "outputs": []
    },
    {
      "cell_type": "code",
      "source": [
        "# Convert data to PyTorch tensors\n",
        "X_train_tensor = torch.tensor(X_train, dtype=torch.float32)\n",
        "X_test_tensor = torch.tensor(X_test, dtype=torch.float32)\n",
        "y_train_tensor = torch.tensor(y_train, dtype=torch.float32)\n",
        "y_test_tensor = torch.tensor(y_test, dtype=torch.float32)\n",
        "\n",
        "# Create TensorDataset\n",
        "train_dataset = TensorDataset(X_train_tensor, y_train_tensor)\n",
        "test_dataset = TensorDataset(X_test_tensor, y_test_tensor)\n",
        "\n",
        "# Create DataLoader\n",
        "train_loader = DataLoader(train_dataset, batch_size=32, shuffle=True)\n",
        "test_loader = DataLoader(test_dataset, batch_size=32, shuffle=False)\n"
      ],
      "metadata": {
        "id": "mm_8pTljZ7it"
      },
      "execution_count": 15,
      "outputs": []
    },
    {
      "cell_type": "code",
      "source": [
        "# Markov Model\n",
        "def train_markov(data):\n",
        "    transition_counts = Counter((a, b) for a, b in zip(data[:-1], data[1:]))\n",
        "    total_counts = Counter(data[:-1])\n",
        "    transition_probs = {k: v / total_counts[k[0]] for k, v in transition_counts.items()}\n",
        "    return transition_probs"
      ],
      "metadata": {
        "id": "PhDzlrG6Z9H8"
      },
      "execution_count": 8,
      "outputs": []
    },
    {
      "cell_type": "code",
      "source": [
        "# Hidden Markov Model (HMM)\n",
        "def train_hmm(X, n_components=2):\n",
        "    model = hmm.GaussianHMM(n_components=n_components, covariance_type=\"diag\", n_iter=100)\n",
        "    model.fit(X)\n",
        "    return model"
      ],
      "metadata": {
        "id": "UgTswzR2Z-jV"
      },
      "execution_count": 9,
      "outputs": []
    },
    {
      "cell_type": "code",
      "source": [
        "# RNN Model\n",
        "class RNNModel(nn.Module):\n",
        "    def __init__(self, input_size, hidden_size, output_size, pooling=\"max\"):\n",
        "        super(RNNModel, self).__init__()\n",
        "        self.rnn = nn.RNN(input_size, hidden_size, batch_first=True)\n",
        "        self.pooling = pooling\n",
        "        self.fc = nn.Linear(hidden_size, output_size)\n",
        "\n",
        "    def forward(self, x):\n",
        "        rnn_out, _ = self.rnn(x)\n",
        "        if self.pooling == \"max\":\n",
        "            x = torch.max(rnn_out, dim=1)[0]\n",
        "        else:\n",
        "            x = torch.mean(rnn_out, dim=1)\n",
        "        return self.fc(x)"
      ],
      "metadata": {
        "id": "xSHdxx4KZ__M"
      },
      "execution_count": 10,
      "outputs": []
    },
    {
      "cell_type": "code",
      "source": [
        "# Experiment Parameters\n",
        "hidden_sizes = [16, 32, 64]\n",
        "pooling_types = [\"max\", \"avg\"]\n",
        "epochs_list = [5, 50, 100, 250, 350]\n",
        "optimizers = [\"SGD\", \"RMSProp\", \"Adam\"]\n"
      ],
      "metadata": {
        "id": "j7sPVQksaCI8"
      },
      "execution_count": 11,
      "outputs": []
    },
    {
      "cell_type": "code",
      "source": [
        "# Training RNN\n",
        "def train_rnn(hidden_size, pooling, optimizer_name, epochs):\n",
        "    model = RNNModel(input_size=X_train.shape[1], hidden_size=hidden_size, output_size=1, pooling=pooling)\n",
        "    optimizer = {\"SGD\": optim.SGD, \"RMSProp\": optim.RMSprop, \"Adam\": optim.Adam}[optimizer_name](model.parameters(), lr=0.01)\n",
        "    criterion = nn.MSELoss()\n",
        "    for epoch in range(epochs):\n",
        "        model.train()\n",
        "        for batch_X, batch_y in train_loader:\n",
        "            optimizer.zero_grad()\n",
        "            outputs = model(batch_X.unsqueeze(1))\n",
        "            loss = criterion(outputs.squeeze(), batch_y)\n",
        "            loss.backward()\n",
        "            optimizer.step()\n",
        "    return model\n"
      ],
      "metadata": {
        "id": "ybaRIPr-aERU"
      },
      "execution_count": 12,
      "outputs": []
    },
    {
      "cell_type": "code",
      "source": [
        "# Main Script\n",
        "results = []"
      ],
      "metadata": {
        "id": "ZSFeVD1laHFs"
      },
      "execution_count": 13,
      "outputs": []
    },
    {
      "cell_type": "code",
      "source": [
        "# RNN Experiments\n",
        "for hidden_size in hidden_sizes:\n",
        "    for pooling in pooling_types:\n",
        "        for optimizer_name in optimizers:\n",
        "            for epochs in epochs_list:\n",
        "                model = train_rnn(hidden_size, pooling, optimizer_name, epochs)\n",
        "                model.eval()\n",
        "                with torch.no_grad():\n",
        "                    predictions = []\n",
        "                    for batch_X, _ in test_loader:\n",
        "                        pred = model(batch_X.unsqueeze(1))\n",
        "                        predictions.extend(pred.squeeze().tolist())\n",
        "                results.append({\n",
        "                    \"hidden_size\": hidden_size,\n",
        "                    \"pooling\": pooling,\n",
        "                    \"optimizer\": optimizer_name,\n",
        "                    \"epochs\": epochs,\n",
        "                    \"mse_loss\": nn.MSELoss()(torch.tensor(predictions), y_test_tensor).item()\n",
        "                })"
      ],
      "metadata": {
        "id": "IEUlScyLaIdV"
      },
      "execution_count": 16,
      "outputs": []
    },
    {
      "cell_type": "code",
      "source": [
        "# Save RNN Results\n",
        "results_df = pd.DataFrame(results)\n",
        "results_df.to_csv(\"rnn_results.csv\", index=False)"
      ],
      "metadata": {
        "id": "lDkOUEpwaKrM"
      },
      "execution_count": 17,
      "outputs": []
    },
    {
      "cell_type": "code",
      "source": [
        "# Markov Model Example\n",
        "transition_probs = train_markov(y_train)\n",
        "print(\"Markov Model Transition Probabilities:\", transition_probs)"
      ],
      "metadata": {
        "colab": {
          "base_uri": "https://localhost:8080/"
        },
        "id": "TEL_0cLMbWKG",
        "outputId": "94260a5d-b1eb-4dc9-e6b2-77c22a48e027"
      },
      "execution_count": 18,
      "outputs": [
        {
          "output_type": "stream",
          "name": "stdout",
          "text": [
            "Markov Model Transition Probabilities: {(0.8891263042772198, 0.8891263042772198): 0.09876543209876543, (0.8891263042772198, 0.7657608350016585): 0.12345679012345678, (0.7657608350016585, -1.7896667428492534): 0.08941176470588236, (-1.7896667428492534, 0.14012166938988344): 0.15337423312883436, (0.14012166938988344, 0.347199421388147): 0.10129310344827586, (0.347199421388147, -0.40621112311617363): 0.10658307210031348, (-0.40621112311617363, 0.7657608350016585): 0.11347517730496454, (0.7657608350016585, -1.3755112388527264): 0.14588235294117646, (-1.3755112388527264, -1.3755112388527264): 0.10071942446043165, (-1.3755112388527264, 0.14012166938988344): 0.14148681055155876, (0.14012166938988344, 0.7657608350016585): 0.11853448275862069, (0.7657608350016585, 0.7657608350016585): 0.1388235294117647, (-1.3755112388527264, 1.545606837207885): 0.09832134292565947, (1.545606837207885, 1.545606837207885): 0.09060402684563758, (1.545606837207885, -1.7896667428492534): 0.08389261744966443, (-1.7896667428492534, -1.7896667428492534): 0.10122699386503067, (0.14012166938988344, 0.8891263042772198): 0.08189655172413793, (0.7657608350016585, 0.7877903830865802): 0.09647058823529411, (0.7877903830865802, 0.7657608350016585): 0.0903954802259887, (0.7657608350016585, 1.545606837207885): 0.07764705882352942, (1.545606837207885, 0.7877903830865802): 0.10067114093959731, (0.7877903830865802, 0.347199421388147): 0.08192090395480225, (0.347199421388147, 0.7877903830865802): 0.10658307210031348, (0.347199421388147, 0.347199421388147): 0.06896551724137931, (0.347199421388147, -1.3755112388527264): 0.12225705329153605, (-1.3755112388527264, 0.7657608350016585): 0.12709832134292565, (0.7657608350016585, 0.347199421388147): 0.08470588235294117, (-0.40621112311617363, -0.40621112311617363): 0.0851063829787234, (-0.40621112311617363, -1.3755112388527264): 0.10283687943262411, (-1.3755112388527264, -1.7896667428492534): 0.09832134292565947, (-1.7896667428492534, 0.8891263042772198): 0.08588957055214724, (0.7657608350016585, 0.14012166938988344): 0.11058823529411765, (0.14012166938988344, -0.40621112311617363): 0.08836206896551724, (-0.40621112311617363, -1.7896667428492534): 0.06382978723404255, (-1.7896667428492534, -0.7498720732409514): 0.10122699386503067, (-0.7498720732409514, 0.347199421388147): 0.1094224924012158, (0.347199421388147, -1.7896667428492534): 0.09404388714733543, (-1.7896667428492534, 0.7877903830865802): 0.10429447852760736, (0.7877903830865802, 1.545606837207885): 0.08192090395480225, (0.7877903830865802, 0.14012166938988344): 0.12146892655367232, (0.14012166938988344, -1.3755112388527264): 0.10775862068965517, (-1.3755112388527264, -0.40621112311617363): 0.07434052757793765, (-1.7896667428492534, -0.40621112311617363): 0.06441717791411043, (-0.40621112311617363, 0.7877903830865802): 0.0851063829787234, (0.7657608350016585, 0.8891263042772198): 0.09411764705882353, (0.8891263042772198, 0.14012166938988344): 0.11728395061728394, (0.14012166938988344, 0.14012166938988344): 0.11637931034482758, (0.14012166938988344, -0.7498720732409514): 0.11206896551724138, (-0.7498720732409514, 0.7877903830865802): 0.1033434650455927, (0.7877903830865802, -1.3755112388527264): 0.1553672316384181, (-1.3755112388527264, 0.347199421388147): 0.07913669064748201, (0.347199421388147, -0.7498720732409514): 0.07836990595611286, (-0.7498720732409514, -1.3755112388527264): 0.10030395136778116, (-0.40621112311617363, 1.545606837207885): 0.0851063829787234, (1.545606837207885, 0.7657608350016585): 0.1174496644295302, (-1.7896667428492534, -1.3755112388527264): 0.10429447852760736, (-1.3755112388527264, 0.7877903830865802): 0.09592326139088729, (0.7877903830865802, 0.8891263042772198): 0.08757062146892655, (0.8891263042772198, 1.545606837207885): 0.10185185185185185, (1.545606837207885, 0.14012166938988344): 0.1610738255033557, (0.347199421388147, 0.7657608350016585): 0.11912225705329153, (0.14012166938988344, 1.545606837207885): 0.06896551724137931, (0.7657608350016585, -0.7498720732409514): 0.08, (-0.7498720732409514, 0.7657608350016585): 0.1458966565349544, (0.7877903830865802, -0.40621112311617363): 0.062146892655367235, (-0.40621112311617363, 0.8891263042772198): 0.09929078014184398, (0.8891263042772198, -1.7896667428492534): 0.08333333333333333, (-1.7896667428492534, 0.347199421388147): 0.09202453987730061, (0.8891263042772198, 0.347199421388147): 0.09259259259259259, (-1.7896667428492534, 0.7657608350016585): 0.10122699386503067, (0.7657608350016585, -0.40621112311617363): 0.08235294117647059, (0.8891263042772198, 0.7877903830865802): 0.09567901234567901, (-1.3755112388527264, 0.8891263042772198): 0.10551558752997602, (-0.7498720732409514, -0.7498720732409514): 0.1094224924012158, (-0.7498720732409514, 0.8891263042772198): 0.0790273556231003, (0.8891263042772198, -1.3755112388527264): 0.12654320987654322, (-1.3755112388527264, -0.7498720732409514): 0.07913669064748201, (0.14012166938988344, -1.7896667428492534): 0.09913793103448276, (0.347199421388147, 0.14012166938988344): 0.13479623824451412, (1.545606837207885, -0.7498720732409514): 0.08389261744966443, (0.7877903830865802, -0.7498720732409514): 0.096045197740113, (-0.7498720732409514, 0.14012166938988344): 0.13069908814589665, (1.545606837207885, -0.40621112311617363): 0.07718120805369127, (-0.40621112311617363, 0.14012166938988344): 0.13829787234042554, (1.545606837207885, -1.3755112388527264): 0.10738255033557047, (0.8891263042772198, -0.40621112311617363): 0.08024691358024691, (-0.40621112311617363, 0.347199421388147): 0.11702127659574468, (0.347199421388147, 0.8891263042772198): 0.08463949843260188, (-0.40621112311617363, -0.7498720732409514): 0.1099290780141844, (0.8891263042772198, -0.7498720732409514): 0.08024691358024691, (0.347199421388147, 1.545606837207885): 0.08463949843260188, (-0.7498720732409514, 1.545606837207885): 0.0668693009118541, (0.7877903830865802, 0.7877903830865802): 0.10451977401129943, (0.14012166938988344, 0.7877903830865802): 0.10560344827586207, (-1.7896667428492534, 1.545606837207885): 0.09202453987730061, (0.7877903830865802, -1.7896667428492534): 0.11864406779661017, (1.545606837207885, 0.8891263042772198): 0.09731543624161074, (-0.7498720732409514, -0.40621112311617363): 0.07598784194528875, (-0.7498720732409514, -1.7896667428492534): 0.0790273556231003, (1.545606837207885, 0.347199421388147): 0.08053691275167785}\n"
          ]
        }
      ]
    },
    {
      "cell_type": "code",
      "source": [
        "# Hidden Markov Model Example\n",
        "hmm_model = train_hmm(X_train)\n",
        "print(\"HMM Trained with n_components=2\")\n",
        "\n",
        "print(\"Experiments completed. RNN results saved to 'rnn_results.csv'.\")"
      ],
      "metadata": {
        "colab": {
          "base_uri": "https://localhost:8080/"
        },
        "id": "3AYsKwWLbZCZ",
        "outputId": "da3980fa-0413-4677-f644-babc35d6ec8e"
      },
      "execution_count": 19,
      "outputs": [
        {
          "output_type": "stream",
          "name": "stderr",
          "text": [
            "WARNING:hmmlearn.base:Model is not converging.  Current: -84218.77850530171 is not greater than -84216.83436528075. Delta is -1.9441400209616404\n"
          ]
        },
        {
          "output_type": "stream",
          "name": "stdout",
          "text": [
            "HMM Trained with n_components=2\n",
            "Experiments completed. RNN results saved to 'rnn_results.csv'.\n"
          ]
        }
      ]
    }
  ]
}